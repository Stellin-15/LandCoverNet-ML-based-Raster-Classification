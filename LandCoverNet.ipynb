{
 "cells": [
  {
   "cell_type": "code",
   "execution_count": 2,
   "id": "e57dd6fa",
   "metadata": {},
   "outputs": [
    {
     "name": "stdout",
     "output_type": "stream",
     "text": [
      "--- Environment Information ---\n",
      "Kernel Path: /home/stellin/miniconda3/bin/python\n",
      "Python Version: 3.12.2 | packaged by conda-forge | (main, Feb 16 2024, 20:50:58) [GCC 12.3.0]\n",
      "------------------------------\n",
      "PyTorch Information:\n",
      "  - PyTorch Version: 2.6.0+cu124\n",
      "  - CUDA Available: True\n",
      "  - GPU Count: 1\n",
      "  - Current GPU: NVIDIA GeForce RTX 4060 Laptop GPU\n",
      "------------------------------\n",
      "Key Library Versions:\n",
      "  - torchvision : 0.21.0+cu124\n",
      "  - rasterio    : 1.4.3\n",
      "  - sklearn     : 1.6.1\n",
      "  - numpy       : 2.3.1\n",
      "  - tqdm        : 4.66.4\n",
      "\n",
      "--- End of Report ---\n"
     ]
    }
   ],
   "source": [
    "import sys\n",
    "import torch\n",
    "\n",
    "print(\"--- Environment Information ---\")\n",
    "\n",
    "# 1. Python Kernel and Version\n",
    "print(f\"Kernel Path: {sys.executable}\")\n",
    "print(f\"Python Version: {sys.version}\")\n",
    "print(\"-\" * 30)\n",
    "\n",
    "# 2. PyTorch and CUDA Status\n",
    "print(\"PyTorch Information:\")\n",
    "try:\n",
    "    print(f\"  - PyTorch Version: {torch.__version__}\")\n",
    "    is_cuda_available = torch.cuda.is_available()\n",
    "    print(f\"  - CUDA Available: {is_cuda_available}\")\n",
    "    if is_cuda_available:\n",
    "        print(f\"  - GPU Count: {torch.cuda.device_count()}\")\n",
    "        print(f\"  - Current GPU: {torch.cuda.get_device_name(torch.cuda.current_device())}\")\n",
    "    else:\n",
    "        print(\"  - Running on CPU.\")\n",
    "except ImportError:\n",
    "    print(\"  - PyTorch is NOT installed.\")\n",
    "print(\"-\" * 30)\n",
    "\n",
    "\n",
    "# 3. Key GeoAI Libraries Check\n",
    "print(\"Key Library Versions:\")\n",
    "def check_module_version(module_name):\n",
    "    try:\n",
    "        module = __import__(module_name)\n",
    "        version = getattr(module, '__version__', 'N/A')\n",
    "        print(f\"  - {module_name:<12}: {version}\")\n",
    "    except ImportError:\n",
    "        print(f\"  - {module_name:<12}: NOT INSTALLED\")\n",
    "\n",
    "check_module_version('torchvision')\n",
    "check_module_version('rasterio')\n",
    "check_module_version('sklearn')\n",
    "check_module_version('numpy')\n",
    "check_module_version('tqdm')\n",
    "\n",
    "print(\"\\n--- End of Report ---\")"
   ]
  },
  {
   "cell_type": "code",
   "execution_count": 2,
   "id": "e4fc3da5",
   "metadata": {},
   "outputs": [
    {
     "name": "stdout",
     "output_type": "stream",
     "text": [
      "Using device: cuda\n",
      "Loading data from CSV files...\n",
      "Training samples: 18900\n",
      "Validation samples: 5400\n",
      "Test samples: 2700\n",
      "\n",
      "Class Mapping Loaded:\n",
      "{'AnnualCrop': 0, 'Forest': 1, 'HerbaceousVegetation': 2, 'Highway': 3, 'Industrial': 4, 'Pasture': 5, 'PermanentCrop': 6, 'Residential': 7, 'River': 8, 'SeaLake': 9}\n",
      "\n"
     ]
    },
    {
     "name": "stderr",
     "output_type": "stream",
     "text": [
      "/home/stellin/miniconda3/lib/python3.12/site-packages/torchvision/models/_utils.py:208: UserWarning: The parameter 'pretrained' is deprecated since 0.13 and may be removed in the future, please use 'weights' instead.\n",
      "  warnings.warn(\n",
      "/home/stellin/miniconda3/lib/python3.12/site-packages/torchvision/models/_utils.py:223: UserWarning: Arguments other than a weight enum or `None` for 'weights' are deprecated since 0.13 and may be removed in the future. The current behavior is equivalent to passing `weights=ResNet18_Weights.IMAGENET1K_V1`. You can also use `weights=ResNet18_Weights.DEFAULT` to get the most up-to-date weights.\n",
      "  warnings.warn(msg)\n"
     ]
    },
    {
     "name": "stdout",
     "output_type": "stream",
     "text": [
      "Epoch 1/25\n",
      "----------\n"
     ]
    },
    {
     "name": "stderr",
     "output_type": "stream",
     "text": [
      "Train Phase: 100%|██████████| 296/296 [00:42<00:00,  7.00it/s, loss=0.761]\n"
     ]
    },
    {
     "name": "stdout",
     "output_type": "stream",
     "text": [
      "train Loss: 0.5952 Acc: 0.8066\n"
     ]
    },
    {
     "name": "stderr",
     "output_type": "stream",
     "text": [
      "Val Phase: 100%|██████████| 85/85 [00:03<00:00, 22.35it/s, loss=0.409]\n"
     ]
    },
    {
     "name": "stdout",
     "output_type": "stream",
     "text": [
      "val Loss: 0.5141 Acc: 0.8524\n",
      "New best model saved to landcovernet_resnet18_best.pth with accuracy: 0.8524\n",
      "\n",
      "Epoch 2/25\n",
      "----------\n"
     ]
    },
    {
     "name": "stderr",
     "output_type": "stream",
     "text": [
      "Train Phase: 100%|██████████| 296/296 [00:41<00:00,  7.09it/s, loss=0.668]\n"
     ]
    },
    {
     "name": "stdout",
     "output_type": "stream",
     "text": [
      "train Loss: 0.4191 Acc: 0.8621\n"
     ]
    },
    {
     "name": "stderr",
     "output_type": "stream",
     "text": [
      "Val Phase: 100%|██████████| 85/85 [00:03<00:00, 22.44it/s, loss=0.0959]\n"
     ]
    },
    {
     "name": "stdout",
     "output_type": "stream",
     "text": [
      "val Loss: 0.2090 Acc: 0.9306\n",
      "New best model saved to landcovernet_resnet18_best.pth with accuracy: 0.9306\n",
      "\n",
      "Epoch 3/25\n",
      "----------\n"
     ]
    },
    {
     "name": "stderr",
     "output_type": "stream",
     "text": [
      "Train Phase: 100%|██████████| 296/296 [00:40<00:00,  7.38it/s, loss=0.174] \n"
     ]
    },
    {
     "name": "stdout",
     "output_type": "stream",
     "text": [
      "train Loss: 0.3555 Acc: 0.8851\n"
     ]
    },
    {
     "name": "stderr",
     "output_type": "stream",
     "text": [
      "Val Phase: 100%|██████████| 85/85 [00:03<00:00, 22.34it/s, loss=0.0445]\n"
     ]
    },
    {
     "name": "stdout",
     "output_type": "stream",
     "text": [
      "val Loss: 0.1791 Acc: 0.9433\n",
      "New best model saved to landcovernet_resnet18_best.pth with accuracy: 0.9433\n",
      "\n",
      "Epoch 4/25\n",
      "----------\n"
     ]
    },
    {
     "name": "stderr",
     "output_type": "stream",
     "text": [
      "Train Phase: 100%|██████████| 296/296 [00:39<00:00,  7.42it/s, loss=0.249] \n"
     ]
    },
    {
     "name": "stdout",
     "output_type": "stream",
     "text": [
      "train Loss: 0.3294 Acc: 0.8923\n"
     ]
    },
    {
     "name": "stderr",
     "output_type": "stream",
     "text": [
      "Val Phase: 100%|██████████| 85/85 [00:03<00:00, 22.37it/s, loss=0.118] \n"
     ]
    },
    {
     "name": "stdout",
     "output_type": "stream",
     "text": [
      "val Loss: 0.2231 Acc: 0.9335\n",
      "\n",
      "Epoch 5/25\n",
      "----------\n"
     ]
    },
    {
     "name": "stderr",
     "output_type": "stream",
     "text": [
      "Train Phase: 100%|██████████| 296/296 [00:39<00:00,  7.50it/s, loss=0.365]\n"
     ]
    },
    {
     "name": "stdout",
     "output_type": "stream",
     "text": [
      "train Loss: 0.3037 Acc: 0.9008\n"
     ]
    },
    {
     "name": "stderr",
     "output_type": "stream",
     "text": [
      "Val Phase: 100%|██████████| 85/85 [00:05<00:00, 15.17it/s, loss=0.0954]\n"
     ]
    },
    {
     "name": "stdout",
     "output_type": "stream",
     "text": [
      "val Loss: 0.2713 Acc: 0.9157\n",
      "\n",
      "Epoch 6/25\n",
      "----------\n"
     ]
    },
    {
     "name": "stderr",
     "output_type": "stream",
     "text": [
      "Train Phase: 100%|██████████| 296/296 [00:39<00:00,  7.53it/s, loss=0.505] \n"
     ]
    },
    {
     "name": "stdout",
     "output_type": "stream",
     "text": [
      "train Loss: 0.3050 Acc: 0.8992\n"
     ]
    },
    {
     "name": "stderr",
     "output_type": "stream",
     "text": [
      "Val Phase: 100%|██████████| 85/85 [00:03<00:00, 22.66it/s, loss=0.0657]\n"
     ]
    },
    {
     "name": "stdout",
     "output_type": "stream",
     "text": [
      "val Loss: 0.2060 Acc: 0.9285\n",
      "\n",
      "Epoch 7/25\n",
      "----------\n"
     ]
    },
    {
     "name": "stderr",
     "output_type": "stream",
     "text": [
      "Train Phase: 100%|██████████| 296/296 [00:39<00:00,  7.41it/s, loss=0.282] \n"
     ]
    },
    {
     "name": "stdout",
     "output_type": "stream",
     "text": [
      "train Loss: 0.2850 Acc: 0.9058\n"
     ]
    },
    {
     "name": "stderr",
     "output_type": "stream",
     "text": [
      "Val Phase: 100%|██████████| 85/85 [00:03<00:00, 22.42it/s, loss=0.0451]\n"
     ]
    },
    {
     "name": "stdout",
     "output_type": "stream",
     "text": [
      "val Loss: 0.1421 Acc: 0.9519\n",
      "New best model saved to landcovernet_resnet18_best.pth with accuracy: 0.9519\n",
      "\n",
      "Epoch 8/25\n",
      "----------\n"
     ]
    },
    {
     "name": "stderr",
     "output_type": "stream",
     "text": [
      "Train Phase: 100%|██████████| 296/296 [00:39<00:00,  7.49it/s, loss=0.262] \n"
     ]
    },
    {
     "name": "stdout",
     "output_type": "stream",
     "text": [
      "train Loss: 0.2651 Acc: 0.9128\n"
     ]
    },
    {
     "name": "stderr",
     "output_type": "stream",
     "text": [
      "Val Phase: 100%|██████████| 85/85 [00:03<00:00, 22.50it/s, loss=0.011] \n"
     ]
    },
    {
     "name": "stdout",
     "output_type": "stream",
     "text": [
      "val Loss: 0.1246 Acc: 0.9576\n",
      "New best model saved to landcovernet_resnet18_best.pth with accuracy: 0.9576\n",
      "\n",
      "Epoch 9/25\n",
      "----------\n"
     ]
    },
    {
     "name": "stderr",
     "output_type": "stream",
     "text": [
      "Train Phase: 100%|██████████| 296/296 [00:41<00:00,  7.13it/s, loss=0.132] \n"
     ]
    },
    {
     "name": "stdout",
     "output_type": "stream",
     "text": [
      "train Loss: 0.2578 Acc: 0.9171\n"
     ]
    },
    {
     "name": "stderr",
     "output_type": "stream",
     "text": [
      "Val Phase: 100%|██████████| 85/85 [00:03<00:00, 22.27it/s, loss=0.059] \n"
     ]
    },
    {
     "name": "stdout",
     "output_type": "stream",
     "text": [
      "val Loss: 0.1399 Acc: 0.9531\n",
      "\n",
      "Epoch 10/25\n",
      "----------\n"
     ]
    },
    {
     "name": "stderr",
     "output_type": "stream",
     "text": [
      "Train Phase: 100%|██████████| 296/296 [00:39<00:00,  7.48it/s, loss=0.27]  \n"
     ]
    },
    {
     "name": "stdout",
     "output_type": "stream",
     "text": [
      "train Loss: 0.2551 Acc: 0.9168\n"
     ]
    },
    {
     "name": "stderr",
     "output_type": "stream",
     "text": [
      "Val Phase: 100%|██████████| 85/85 [00:03<00:00, 23.15it/s, loss=0.165] \n"
     ]
    },
    {
     "name": "stdout",
     "output_type": "stream",
     "text": [
      "val Loss: 0.1130 Acc: 0.9615\n",
      "New best model saved to landcovernet_resnet18_best.pth with accuracy: 0.9615\n",
      "\n",
      "Epoch 11/25\n",
      "----------\n"
     ]
    },
    {
     "name": "stderr",
     "output_type": "stream",
     "text": [
      "Train Phase: 100%|██████████| 296/296 [00:39<00:00,  7.47it/s, loss=0.402] \n"
     ]
    },
    {
     "name": "stdout",
     "output_type": "stream",
     "text": [
      "train Loss: 0.2453 Acc: 0.9201\n"
     ]
    },
    {
     "name": "stderr",
     "output_type": "stream",
     "text": [
      "Val Phase: 100%|██████████| 85/85 [00:03<00:00, 22.79it/s, loss=0.0404]\n"
     ]
    },
    {
     "name": "stdout",
     "output_type": "stream",
     "text": [
      "val Loss: 0.1431 Acc: 0.9537\n",
      "\n",
      "Epoch 12/25\n",
      "----------\n"
     ]
    },
    {
     "name": "stderr",
     "output_type": "stream",
     "text": [
      "Train Phase: 100%|██████████| 296/296 [00:39<00:00,  7.47it/s, loss=0.491] \n"
     ]
    },
    {
     "name": "stdout",
     "output_type": "stream",
     "text": [
      "train Loss: 0.2355 Acc: 0.9222\n"
     ]
    },
    {
     "name": "stderr",
     "output_type": "stream",
     "text": [
      "Val Phase: 100%|██████████| 85/85 [00:05<00:00, 14.94it/s, loss=0.0466]\n"
     ]
    },
    {
     "name": "stdout",
     "output_type": "stream",
     "text": [
      "val Loss: 0.1356 Acc: 0.9557\n",
      "\n",
      "Epoch 13/25\n",
      "----------\n"
     ]
    },
    {
     "name": "stderr",
     "output_type": "stream",
     "text": [
      "Train Phase: 100%|██████████| 296/296 [00:39<00:00,  7.46it/s, loss=0.403] \n"
     ]
    },
    {
     "name": "stdout",
     "output_type": "stream",
     "text": [
      "train Loss: 0.2408 Acc: 0.9205\n"
     ]
    },
    {
     "name": "stderr",
     "output_type": "stream",
     "text": [
      "Val Phase: 100%|██████████| 85/85 [00:03<00:00, 23.96it/s, loss=0.00873]\n"
     ]
    },
    {
     "name": "stdout",
     "output_type": "stream",
     "text": [
      "val Loss: 0.1030 Acc: 0.9631\n",
      "New best model saved to landcovernet_resnet18_best.pth with accuracy: 0.9631\n",
      "\n",
      "Epoch 14/25\n",
      "----------\n"
     ]
    },
    {
     "name": "stderr",
     "output_type": "stream",
     "text": [
      "Train Phase: 100%|██████████| 296/296 [00:39<00:00,  7.46it/s, loss=0.226] \n"
     ]
    },
    {
     "name": "stdout",
     "output_type": "stream",
     "text": [
      "train Loss: 0.2257 Acc: 0.9243\n"
     ]
    },
    {
     "name": "stderr",
     "output_type": "stream",
     "text": [
      "Val Phase: 100%|██████████| 85/85 [00:03<00:00, 23.60it/s, loss=0.0745]\n"
     ]
    },
    {
     "name": "stdout",
     "output_type": "stream",
     "text": [
      "val Loss: 0.1203 Acc: 0.9611\n",
      "\n",
      "Epoch 15/25\n",
      "----------\n"
     ]
    },
    {
     "name": "stderr",
     "output_type": "stream",
     "text": [
      "Train Phase: 100%|██████████| 296/296 [00:39<00:00,  7.47it/s, loss=0.25]  \n"
     ]
    },
    {
     "name": "stdout",
     "output_type": "stream",
     "text": [
      "train Loss: 0.2192 Acc: 0.9265\n"
     ]
    },
    {
     "name": "stderr",
     "output_type": "stream",
     "text": [
      "Val Phase: 100%|██████████| 85/85 [00:03<00:00, 22.39it/s, loss=0.0165] \n"
     ]
    },
    {
     "name": "stdout",
     "output_type": "stream",
     "text": [
      "val Loss: 0.1177 Acc: 0.9581\n",
      "\n",
      "Epoch 16/25\n",
      "----------\n"
     ]
    },
    {
     "name": "stderr",
     "output_type": "stream",
     "text": [
      "Train Phase: 100%|██████████| 296/296 [00:41<00:00,  7.08it/s, loss=0.179] \n"
     ]
    },
    {
     "name": "stdout",
     "output_type": "stream",
     "text": [
      "train Loss: 0.2161 Acc: 0.9281\n"
     ]
    },
    {
     "name": "stderr",
     "output_type": "stream",
     "text": [
      "Val Phase: 100%|██████████| 85/85 [00:03<00:00, 23.16it/s, loss=0.0957]\n"
     ]
    },
    {
     "name": "stdout",
     "output_type": "stream",
     "text": [
      "val Loss: 0.1004 Acc: 0.9641\n",
      "New best model saved to landcovernet_resnet18_best.pth with accuracy: 0.9641\n",
      "\n",
      "Epoch 17/25\n",
      "----------\n"
     ]
    },
    {
     "name": "stderr",
     "output_type": "stream",
     "text": [
      "Train Phase: 100%|██████████| 296/296 [00:39<00:00,  7.51it/s, loss=0.265] \n"
     ]
    },
    {
     "name": "stdout",
     "output_type": "stream",
     "text": [
      "train Loss: 0.1992 Acc: 0.9353\n"
     ]
    },
    {
     "name": "stderr",
     "output_type": "stream",
     "text": [
      "Val Phase: 100%|██████████| 85/85 [00:03<00:00, 23.11it/s, loss=0.0268]\n"
     ]
    },
    {
     "name": "stdout",
     "output_type": "stream",
     "text": [
      "val Loss: 0.0926 Acc: 0.9694\n",
      "New best model saved to landcovernet_resnet18_best.pth with accuracy: 0.9694\n",
      "\n",
      "Epoch 18/25\n",
      "----------\n"
     ]
    },
    {
     "name": "stderr",
     "output_type": "stream",
     "text": [
      "Train Phase: 100%|██████████| 296/296 [00:39<00:00,  7.43it/s, loss=0.585] \n"
     ]
    },
    {
     "name": "stdout",
     "output_type": "stream",
     "text": [
      "train Loss: 0.2031 Acc: 0.9338\n"
     ]
    },
    {
     "name": "stderr",
     "output_type": "stream",
     "text": [
      "Val Phase: 100%|██████████| 85/85 [00:03<00:00, 22.88it/s, loss=0.0309]\n"
     ]
    },
    {
     "name": "stdout",
     "output_type": "stream",
     "text": [
      "val Loss: 0.1385 Acc: 0.9531\n",
      "\n",
      "Epoch 19/25\n",
      "----------\n"
     ]
    },
    {
     "name": "stderr",
     "output_type": "stream",
     "text": [
      "Train Phase: 100%|██████████| 296/296 [00:39<00:00,  7.56it/s, loss=0.512] \n"
     ]
    },
    {
     "name": "stdout",
     "output_type": "stream",
     "text": [
      "train Loss: 0.2138 Acc: 0.9315\n"
     ]
    },
    {
     "name": "stderr",
     "output_type": "stream",
     "text": [
      "Val Phase: 100%|██████████| 85/85 [00:05<00:00, 14.99it/s, loss=0.0224]\n"
     ]
    },
    {
     "name": "stdout",
     "output_type": "stream",
     "text": [
      "val Loss: 0.0940 Acc: 0.9689\n",
      "\n",
      "Epoch 20/25\n",
      "----------\n"
     ]
    },
    {
     "name": "stderr",
     "output_type": "stream",
     "text": [
      "Train Phase: 100%|██████████| 296/296 [00:39<00:00,  7.57it/s, loss=0.117] \n"
     ]
    },
    {
     "name": "stdout",
     "output_type": "stream",
     "text": [
      "train Loss: 0.2012 Acc: 0.9346\n"
     ]
    },
    {
     "name": "stderr",
     "output_type": "stream",
     "text": [
      "Val Phase: 100%|██████████| 85/85 [00:03<00:00, 23.41it/s, loss=0.0985]\n"
     ]
    },
    {
     "name": "stdout",
     "output_type": "stream",
     "text": [
      "val Loss: 0.1328 Acc: 0.9531\n",
      "\n",
      "Epoch 21/25\n",
      "----------\n"
     ]
    },
    {
     "name": "stderr",
     "output_type": "stream",
     "text": [
      "Train Phase: 100%|██████████| 296/296 [00:38<00:00,  7.73it/s, loss=0.334] \n"
     ]
    },
    {
     "name": "stdout",
     "output_type": "stream",
     "text": [
      "train Loss: 0.1872 Acc: 0.9376\n"
     ]
    },
    {
     "name": "stderr",
     "output_type": "stream",
     "text": [
      "Val Phase: 100%|██████████| 85/85 [00:03<00:00, 24.38it/s, loss=0.071] \n"
     ]
    },
    {
     "name": "stdout",
     "output_type": "stream",
     "text": [
      "val Loss: 0.1271 Acc: 0.9600\n",
      "\n",
      "Epoch 22/25\n",
      "----------\n"
     ]
    },
    {
     "name": "stderr",
     "output_type": "stream",
     "text": [
      "Train Phase: 100%|██████████| 296/296 [00:37<00:00,  7.80it/s, loss=0.0688]\n"
     ]
    },
    {
     "name": "stdout",
     "output_type": "stream",
     "text": [
      "train Loss: 0.1979 Acc: 0.9362\n"
     ]
    },
    {
     "name": "stderr",
     "output_type": "stream",
     "text": [
      "Val Phase: 100%|██████████| 85/85 [00:03<00:00, 23.71it/s, loss=0.00961]\n"
     ]
    },
    {
     "name": "stdout",
     "output_type": "stream",
     "text": [
      "val Loss: 0.1089 Acc: 0.9624\n",
      "\n",
      "Epoch 23/25\n",
      "----------\n"
     ]
    },
    {
     "name": "stderr",
     "output_type": "stream",
     "text": [
      "Train Phase: 100%|██████████| 296/296 [00:37<00:00,  7.81it/s, loss=0.0342]\n"
     ]
    },
    {
     "name": "stdout",
     "output_type": "stream",
     "text": [
      "train Loss: 0.1858 Acc: 0.9388\n"
     ]
    },
    {
     "name": "stderr",
     "output_type": "stream",
     "text": [
      "Val Phase: 100%|██████████| 85/85 [00:05<00:00, 15.54it/s, loss=0.0927]\n"
     ]
    },
    {
     "name": "stdout",
     "output_type": "stream",
     "text": [
      "val Loss: 0.1000 Acc: 0.9646\n",
      "\n",
      "Epoch 24/25\n",
      "----------\n"
     ]
    },
    {
     "name": "stderr",
     "output_type": "stream",
     "text": [
      "Train Phase: 100%|██████████| 296/296 [00:37<00:00,  7.81it/s, loss=0.364] \n"
     ]
    },
    {
     "name": "stdout",
     "output_type": "stream",
     "text": [
      "train Loss: 0.1880 Acc: 0.9402\n"
     ]
    },
    {
     "name": "stderr",
     "output_type": "stream",
     "text": [
      "Val Phase: 100%|██████████| 85/85 [00:03<00:00, 24.87it/s, loss=0.0266]\n"
     ]
    },
    {
     "name": "stdout",
     "output_type": "stream",
     "text": [
      "val Loss: 0.1224 Acc: 0.9581\n",
      "\n",
      "Epoch 25/25\n",
      "----------\n"
     ]
    },
    {
     "name": "stderr",
     "output_type": "stream",
     "text": [
      "Train Phase: 100%|██████████| 296/296 [00:37<00:00,  7.85it/s, loss=0.155] \n"
     ]
    },
    {
     "name": "stdout",
     "output_type": "stream",
     "text": [
      "train Loss: 0.1845 Acc: 0.9381\n"
     ]
    },
    {
     "name": "stderr",
     "output_type": "stream",
     "text": [
      "Val Phase: 100%|██████████| 85/85 [00:03<00:00, 23.97it/s, loss=0.132] "
     ]
    },
    {
     "name": "stdout",
     "output_type": "stream",
     "text": [
      "val Loss: 0.1116 Acc: 0.9611\n",
      "\n",
      "Training complete in 18m 11s\n",
      "Best Val Acc: 0.969444\n"
     ]
    },
    {
     "name": "stderr",
     "output_type": "stream",
     "text": [
      "\n"
     ]
    }
   ],
   "source": [
    "import os\n",
    "import torch\n",
    "import pandas as pd\n",
    "import json\n",
    "import torch.nn as nn\n",
    "import torch.optim as optim\n",
    "from PIL import Image\n",
    "from torch.utils.data import Dataset, DataLoader\n",
    "from torchvision import models, transforms\n",
    "from tqdm import tqdm\n",
    "import time\n",
    "\n",
    "# --- 1. CONFIGURATION ---\n",
    "DATA_DIR = 'EuroSAT' \n",
    "MODEL_SAVE_PATH = 'landcovernet_resnet18_best.pth'\n",
    "NUM_CLASSES = 10\n",
    "BATCH_SIZE = 64\n",
    "NUM_EPOCHS = 25\n",
    "LEARNING_RATE = 0.001\n",
    "\n",
    "DEVICE = torch.device(\"cuda\" if torch.cuda.is_available() else \"cpu\")\n",
    "print(f\"Using device: {DEVICE}\")\n",
    "\n",
    "\n",
    "# --- 2. CUSTOM DATASET CLASS (No changes) ---\n",
    "class EuroSATDataset(Dataset):\n",
    "    def __init__(self, image_paths, labels, class_map, transform=None):\n",
    "        self.image_paths = image_paths\n",
    "        self.labels = labels\n",
    "        self.transform = transform\n",
    "        self.class_map = class_map\n",
    "\n",
    "    def __len__(self):\n",
    "        return len(self.image_paths)\n",
    "\n",
    "    def __getitem__(self, idx):\n",
    "        image_path = self.image_paths[idx]\n",
    "        label_name = self.labels[idx]\n",
    "        \n",
    "        image = Image.open(image_path).convert('RGB')\n",
    "        \n",
    "        if self.transform:\n",
    "            image = self.transform(image)\n",
    "        \n",
    "        label_idx = self.class_map[label_name]\n",
    "        return image, label_idx\n",
    "\n",
    "# --- 3. DATA PREPARATION (Corrected Section) ---\n",
    "\n",
    "print(\"Loading data from CSV files...\")\n",
    "\n",
    "# Load the class name to index mapping\n",
    "with open(os.path.join(DATA_DIR, 'label_map.json'), 'r') as f:\n",
    "    class_map = json.load(f)  # <<< FIX 1: Passed the file object 'f' to the function.\n",
    "\n",
    "class_names = [k for k, v in sorted(class_map.items(), key=lambda item: item[1])]\n",
    "\n",
    "def load_data_from_csv(csv_path, base_dir):\n",
    "    \"\"\"Reads a CSV file and returns lists of full image paths and labels.\"\"\"\n",
    "    # We skip the first column as it seems to be an unnamed index\n",
    "    df = pd.read_csv(csv_path, usecols=['Filename', 'ClassName'])\n",
    "    \n",
    "    # <<< FIX 2: Using the correct, case-sensitive column names from your CSV.\n",
    "    full_paths = [os.path.join(base_dir, fname) for fname in df['Filename']]\n",
    "    labels = df['ClassName'].tolist()\n",
    "    return full_paths, labels\n",
    "\n",
    "# Construct paths to the CSV files\n",
    "train_csv_path = os.path.join(DATA_DIR, 'train.csv')\n",
    "val_csv_path = os.path.join(DATA_DIR, 'validation.csv')\n",
    "test_csv_path = os.path.join(DATA_DIR, 'test.csv')\n",
    "\n",
    "# Load the file paths and labels for each split\n",
    "train_paths, train_labels = load_data_from_csv(train_csv_path, DATA_DIR)\n",
    "val_paths, val_labels = load_data_from_csv(val_csv_path, DATA_DIR)\n",
    "test_paths, test_labels = load_data_from_csv(test_csv_path, DATA_DIR)\n",
    "\n",
    "\n",
    "print(f\"Training samples: {len(train_paths)}\")\n",
    "print(f\"Validation samples: {len(val_paths)}\")\n",
    "print(f\"Test samples: {len(test_paths)}\")\n",
    "print(\"\\nClass Mapping Loaded:\")\n",
    "print(class_map)\n",
    "print(\"\")\n",
    "\n",
    "\n",
    "# --- 4. DATA TRANSFORMATION & LOADING (No changes) ---\n",
    "\n",
    "data_transforms = {\n",
    "    'train': transforms.Compose([\n",
    "        transforms.RandomResizedCrop(224),\n",
    "        transforms.RandomHorizontalFlip(),\n",
    "        transforms.RandomRotation(15),\n",
    "        transforms.ToTensor(),\n",
    "        transforms.Normalize([0.485, 0.456, 0.406], [0.229, 0.224, 0.225])\n",
    "    ]),\n",
    "    'val': transforms.Compose([\n",
    "        transforms.Resize(256),\n",
    "        transforms.CenterCrop(224),\n",
    "        transforms.ToTensor(),\n",
    "        transforms.Normalize([0.485, 0.456, 0.406], [0.229, 0.224, 0.225])\n",
    "    ]),\n",
    "}\n",
    "\n",
    "train_dataset = EuroSATDataset(train_paths, train_labels, class_map, transform=data_transforms['train'])\n",
    "val_dataset = EuroSATDataset(val_paths, val_labels, class_map, transform=data_transforms['val'])\n",
    "\n",
    "train_loader = DataLoader(train_dataset, batch_size=BATCH_SIZE, shuffle=True, num_workers=4, pin_memory=True)\n",
    "val_loader = DataLoader(val_dataset, batch_size=BATCH_SIZE, shuffle=False, num_workers=4, pin_memory=True)\n",
    "\n",
    "\n",
    "# --- 5. MODEL SETUP (No changes) ---\n",
    "\n",
    "model = models.resnet18(pretrained=True)\n",
    "num_ftrs = model.fc.in_features\n",
    "model.fc = nn.Linear(num_ftrs, NUM_CLASSES)\n",
    "model = model.to(DEVICE)\n",
    "\n",
    "criterion = nn.CrossEntropyLoss()\n",
    "optimizer = optim.Adam(model.parameters(), lr=LEARNING_RATE)\n",
    "\n",
    "\n",
    "# --- 6. TRAINING AND VALIDATION LOOP (No changes) ---\n",
    "\n",
    "best_val_acc = 0.0\n",
    "start_time = time.time()\n",
    "\n",
    "for epoch in range(NUM_EPOCHS):\n",
    "    print(f\"Epoch {epoch+1}/{NUM_EPOCHS}\")\n",
    "    print('-' * 10)\n",
    "\n",
    "    for phase in ['train', 'val']:\n",
    "        if phase == 'train':\n",
    "            model.train()\n",
    "            dataloader = train_loader\n",
    "        else:\n",
    "            model.eval()\n",
    "            dataloader = val_loader\n",
    "\n",
    "        running_loss = 0.0\n",
    "        running_corrects = 0\n",
    "\n",
    "        progress_bar = tqdm(dataloader, desc=f\"{phase.capitalize()} Phase\")\n",
    "        for inputs, labels in progress_bar:\n",
    "            inputs = inputs.to(DEVICE)\n",
    "            labels = labels.to(DEVICE)\n",
    "\n",
    "            optimizer.zero_grad()\n",
    "\n",
    "            with torch.set_grad_enabled(phase == 'train'):\n",
    "                outputs = model(inputs)\n",
    "                _, preds = torch.max(outputs, 1)\n",
    "                loss = criterion(outputs, labels)\n",
    "\n",
    "                if phase == 'train':\n",
    "                    loss.backward()\n",
    "                    optimizer.step()\n",
    "\n",
    "            running_loss += loss.item() * inputs.size(0)\n",
    "            running_corrects += torch.sum(preds == labels.data)\n",
    "            \n",
    "            progress_bar.set_postfix(loss=loss.item())\n",
    "\n",
    "        epoch_loss = running_loss / len(dataloader.dataset)\n",
    "        epoch_acc = running_corrects.double() / len(dataloader.dataset)\n",
    "\n",
    "        print(f'{phase} Loss: {epoch_loss:.4f} Acc: {epoch_acc:.4f}')\n",
    "\n",
    "        if phase == 'val' and epoch_acc > best_val_acc:\n",
    "            best_val_acc = epoch_acc\n",
    "            torch.save(model.state_dict(), MODEL_SAVE_PATH)\n",
    "            print(f\"New best model saved to {MODEL_SAVE_PATH} with accuracy: {best_val_acc:.4f}\")\n",
    "\n",
    "    print()\n",
    "\n",
    "end_time = time.time()\n",
    "total_time = end_time - start_time\n",
    "print(f\"Training complete in {total_time // 60:.0f}m {total_time % 60:.0f}s\")\n",
    "print(f\"Best Val Acc: {best_val_acc:4f}\")"
   ]
  }
 ],
 "metadata": {
  "kernelspec": {
   "display_name": "base",
   "language": "python",
   "name": "python3"
  },
  "language_info": {
   "codemirror_mode": {
    "name": "ipython",
    "version": 3
   },
   "file_extension": ".py",
   "mimetype": "text/x-python",
   "name": "python",
   "nbconvert_exporter": "python",
   "pygments_lexer": "ipython3",
   "version": "3.12.2"
  }
 },
 "nbformat": 4,
 "nbformat_minor": 5
}
